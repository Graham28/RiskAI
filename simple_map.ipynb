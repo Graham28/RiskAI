{
 "cells": [
  {
   "cell_type": "code",
   "execution_count": 1,
   "metadata": {},
   "outputs": [
    {
     "name": "stdout",
     "output_type": "stream",
     "text": [
      "pygame 1.9.6\n",
      "Hello from the pygame community. https://www.pygame.org/contribute.html\n"
     ]
    }
   ],
   "source": [
    "from Country import Country\n",
    "from Map import Map\n",
    "from Map import build_simple_map\n",
    "from Player import Player\n",
    "import random\n",
    "import functions"
   ]
  },
  {
   "cell_type": "code",
   "execution_count": 48,
   "metadata": {},
   "outputs": [],
   "source": [
    "my_map = Map()"
   ]
  },
  {
   "cell_type": "code",
   "execution_count": 49,
   "metadata": {},
   "outputs": [],
   "source": [
    "#functions.map_to_array(my_map,Player1,Player2,Player3)"
   ]
  },
  {
   "cell_type": "code",
   "execution_count": 50,
   "metadata": {},
   "outputs": [
    {
     "data": {
      "text/plain": [
       "'my_list = []\\nfor i in range(14):\\n    my_list.append(random.uniform(0.0,1.0))\\nprint(my_list)\\nfunctions.list_to_attack(my_list,my_map,Player1)'"
      ]
     },
     "execution_count": 50,
     "metadata": {},
     "output_type": "execute_result"
    }
   ],
   "source": [
    "\"\"\"my_list = []\n",
    "for i in range(14):\n",
    "    my_list.append(random.uniform(0.0,1.0))\n",
    "print(my_list)\n",
    "functions.list_to_attack(my_list,my_map,Player1)\"\"\""
   ]
  },
  {
   "cell_type": "code",
   "execution_count": 51,
   "metadata": {},
   "outputs": [],
   "source": [
    "for node in my_map.nodes():\n",
    "    print(node.getRuler())"
   ]
  },
  {
   "cell_type": "code",
   "execution_count": 52,
   "metadata": {},
   "outputs": [],
   "source": [
    "Player1 = Player('player1', my_map)"
   ]
  },
  {
   "cell_type": "code",
   "execution_count": 53,
   "metadata": {},
   "outputs": [],
   "source": [
    "Player2 = Player('player2', my_map)"
   ]
  },
  {
   "cell_type": "code",
   "execution_count": 54,
   "metadata": {},
   "outputs": [],
   "source": [
    "Player3 = Player('player3', my_map)"
   ]
  },
  {
   "cell_type": "code",
   "execution_count": 55,
   "metadata": {},
   "outputs": [],
   "source": [
    "Player_list = my_map.getPlayerList()"
   ]
  },
  {
   "cell_type": "code",
   "execution_count": 56,
   "metadata": {},
   "outputs": [],
   "source": [
    "ireland = Country('ireland', my_map,5,5,(1,2,3))\n",
    "scotland = Country('scotland',my_map,7,5,(0,2,3))\n",
    "wales = Country('wales',my_map,7,6,(2,2,3))\n",
    "france = Country('france',my_map,6,7,(2,2,3))"
   ]
  },
  {
   "cell_type": "code",
   "execution_count": 57,
   "metadata": {},
   "outputs": [],
   "source": [
    "england = Country('england', my_map,6,6,(0,2,3))\n",
    "NI = Country('NI', my_map,5,6,(1,2,3))"
   ]
  },
  {
   "cell_type": "code",
   "execution_count": 58,
   "metadata": {},
   "outputs": [],
   "source": [
    "my_map.makeNeighbours(england,ireland)\n",
    "my_map.makeNeighbours(NI,ireland)\n",
    "my_map.makeNeighbours(scotland,wales)\n",
    "my_map.makeNeighbours(england,wales)\n",
    "my_map.makeNeighbours(england,scotland)\n",
    "my_map.makeNeighbours(ireland,scotland)\n",
    "my_map.makeNeighbours(wales,france)\n",
    "#ireland.setRuler(Player1)\n",
    "Player2.addCountry(ireland)\n",
    "Player2.addCountry(NI)\n",
    "Player3.addCountry(england)\n",
    "Player1.addCountry(scotland)\n",
    "Player1.addCountry(wales)\n",
    "Player3.addCountry(france)"
   ]
  },
  {
   "cell_type": "code",
   "execution_count": 59,
   "metadata": {},
   "outputs": [],
   "source": [
    "for node in my_map.nodes():\n",
    "    node.setSoldiers(random.randint(1,10))"
   ]
  },
  {
   "cell_type": "code",
   "execution_count": 14,
   "metadata": {},
   "outputs": [
    {
     "name": "stdout",
     "output_type": "stream",
     "text": [
      "player2 attacked player3 in england.\n",
      "player2 now has control over england.\n",
      "player3 attacked player1 in wales.\n",
      "player3 now has control over wales.\n",
      "player1 attacked player2 in ireland.\n",
      "player1 now has control over ireland.\n",
      "player2 attacked player1 in ireland.\n",
      "player2 now has control over ireland.\n",
      "player3 attacked player1 in scotland.\n",
      "player3 now has control over scotland.\n",
      "player2 attacked player3 in wales.\n",
      "player2 now has control over wales.\n",
      "player3 attacked player2 in wales.\n",
      "player3 now has control over wales.\n",
      "player2 attacked player3 in scotland.\n",
      "player2 now has control over scotland.\n"
     ]
    }
   ],
   "source": [
    "my_map.playRandomGame(True)"
   ]
  },
  {
   "cell_type": "code",
   "execution_count": 2,
   "metadata": {},
   "outputs": [
    {
     "name": "stderr",
     "output_type": "stream",
     "text": [
      "UsageError: Line magic function `%tensorflow_version` not found.\n"
     ]
    }
   ],
   "source": [
    "%tensorflow_version 2.x  # this line is n"
   ]
  },
  {
   "cell_type": "code",
   "execution_count": 3,
   "metadata": {
    "scrolled": true
   },
   "outputs": [],
   "source": [
    "import tensorflow as tf"
   ]
  },
  {
   "cell_type": "code",
   "execution_count": 4,
   "metadata": {
    "scrolled": false
   },
   "outputs": [],
   "source": [
    "import numpy as np"
   ]
  },
  {
   "cell_type": "code",
   "execution_count": null,
   "metadata": {},
   "outputs": [],
   "source": []
  },
  {
   "cell_type": "code",
   "execution_count": 18,
   "metadata": {},
   "outputs": [],
   "source": [
    "my_map = build_simple_map()\n",
    "data = my_map.playTrainingGame()\n",
    "x_train = np.asarray(data[0][:-3])\n",
    "y_train = np.asarray(data[1])\n",
    "    \n",
    "for i in range(3000):\n",
    "    my_map = build_simple_map()\n",
    "    data = my_map.playTrainingGame()\n",
    "\n",
    "    #x_train.append(data[0][:-3])\n",
    "    x_train = np.concatenate((x_train,np.asarray(data[0][:-3])),axis=0)\n",
    "    y_train = np.concatenate((y_train,np.asarray(data[1])),axis=0)\n",
    "\n",
    "#x_train = np.asarray(x_train)\n",
    "    \n",
    "    "
   ]
  },
  {
   "cell_type": "code",
   "execution_count": 19,
   "metadata": {},
   "outputs": [],
   "source": [
    "my_map = build_simple_map()\n",
    "data = my_map.playTrainingGame()\n",
    "x_test = np.asarray(data[0][:-3])\n",
    "y_test = np.asarray(data[1])\n",
    "    \n",
    "for i in range(10):\n",
    "    my_map = build_simple_map()\n",
    "    data = my_map.playTrainingGame()\n",
    "\n",
    "    #x_train.append(data[0][:-3])\n",
    "    x_test = np.concatenate((x_test,np.asarray(data[0][:-3])),axis=0)\n",
    "    y_test = np.concatenate((y_test,np.asarray(data[1])),axis=0)\n",
    "\n",
    "#x_train = np.asarray(x_train)\n",
    "    \n",
    "    "
   ]
  },
  {
   "cell_type": "code",
   "execution_count": 20,
   "metadata": {},
   "outputs": [
    {
     "data": {
      "text/plain": [
       "(62198, 24)"
      ]
     },
     "execution_count": 20,
     "metadata": {},
     "output_type": "execute_result"
    }
   ],
   "source": [
    "x_train.shape"
   ]
  },
  {
   "cell_type": "code",
   "execution_count": 21,
   "metadata": {},
   "outputs": [
    {
     "data": {
      "text/plain": [
       "(62198, 14)"
      ]
     },
     "execution_count": 21,
     "metadata": {},
     "output_type": "execute_result"
    }
   ],
   "source": [
    "y_train.shape"
   ]
  },
  {
   "cell_type": "code",
   "execution_count": 22,
   "metadata": {
    "scrolled": true
   },
   "outputs": [
    {
     "name": "stdout",
     "output_type": "stream",
     "text": [
      "Model: \"sequential_1\"\n",
      "_________________________________________________________________\n",
      "Layer (type)                 Output Shape              Param #   \n",
      "=================================================================\n",
      "dense_2 (Dense)              (None, 128)               3200      \n",
      "_________________________________________________________________\n",
      "dropout_1 (Dropout)          (None, 128)               0         \n",
      "_________________________________________________________________\n",
      "dense_3 (Dense)              (None, 14)                1806      \n",
      "=================================================================\n",
      "Total params: 5,006\n",
      "Trainable params: 5,006\n",
      "Non-trainable params: 0\n",
      "_________________________________________________________________\n"
     ]
    }
   ],
   "source": [
    "model = tf.keras.models.Sequential()\n",
    "model.add(tf.keras.Input(shape=(24)))  \n",
    "model.add(tf.keras.layers.Dense(128, activation='relu'))\n",
    "model.add(tf.keras.layers.Dropout(0.2))\n",
    "model.add(tf.keras.layers.Dense(14, activation='softmax'))\n",
    "model.summary()"
   ]
  },
  {
   "cell_type": "code",
   "execution_count": 23,
   "metadata": {},
   "outputs": [],
   "source": [
    "model.compile(optimizer='adam',\n",
    "              loss='mean_squared_error',\n",
    "              metrics=['accuracy'])"
   ]
  },
  {
   "cell_type": "code",
   "execution_count": 24,
   "metadata": {},
   "outputs": [
    {
     "name": "stdout",
     "output_type": "stream",
     "text": [
      "Train on 62198 samples\n",
      "Epoch 1/4\n",
      "62198/62198 [==============================] - 9s 148us/sample - loss: 94.1651 - accuracy: 0.1187\n",
      "Epoch 2/4\n",
      "62198/62198 [==============================] - 7s 111us/sample - loss: 94.1385 - accuracy: 0.1456\n",
      "Epoch 3/4\n",
      "62198/62198 [==============================] - 7s 118us/sample - loss: 94.1296 - accuracy: 0.1518\n",
      "Epoch 4/4\n",
      "62198/62198 [==============================] - 8s 122us/sample - loss: 94.1239 - accuracy: 0.1568\n"
     ]
    },
    {
     "data": {
      "text/plain": [
       "<tensorflow.python.keras.callbacks.History at 0x19feec50ba8>"
      ]
     },
     "execution_count": 24,
     "metadata": {},
     "output_type": "execute_result"
    }
   ],
   "source": [
    "model.fit(x_train, y_train, epochs=4)"
   ]
  },
  {
   "cell_type": "code",
   "execution_count": 25,
   "metadata": {},
   "outputs": [
    {
     "name": "stdout",
     "output_type": "stream",
     "text": [
      "\r",
      "194/1 [============================================================================================================================================================================================================================================================================================================================================================================================================================================================================================================================================================================================================================================================================================================================================================================================================================================================================================================================================================================================================================================================================================================================================================================================================================================================================================================================================================================================================================================================================================================================================================================================================================================================================================================================================================================================================================================================================================================================================================================================================================================================================================================================================================================================================================================================================================================================================================================================================================================================================================================================================================================================================================================================================================================================================================================================================================================================================================================================================================================================================================================================================================================================================================================================================================================================================================================================================================================================================================================================================================================================================================================================================================================================================================================================================================================================================================================================================================================================================================================================================================================================================================================================================================================================================================================================================================================================================================================================================================================================================================================================================================================================================================================================================================================================================================================================================================================================================================================================================================================================================================================================================================================================================================================================================================================================================================================================================================================================================================================================================================================================================================================================================================================================================================================================================================================================================================================================================================================================================================================================================================================================] - 0s 783us/sample - loss: 94.1922 - accuracy: 0.1082\n"
     ]
    },
    {
     "data": {
      "text/plain": [
       "[94.1706122958783, 0.10824742]"
      ]
     },
     "execution_count": 25,
     "metadata": {},
     "output_type": "execute_result"
    }
   ],
   "source": [
    "model.evaluate(x_test, y_test)"
   ]
  },
  {
   "cell_type": "code",
   "execution_count": 26,
   "metadata": {},
   "outputs": [],
   "source": [
    "#graham = model.predict([functions.map_to_array(my_map,Player1,Player2,Player3)])"
   ]
  },
  {
   "cell_type": "code",
   "execution_count": 27,
   "metadata": {},
   "outputs": [],
   "source": [
    "#functions.list_to_attack(list(graham[0]),my_map,Player1)"
   ]
  },
  {
   "cell_type": "code",
   "execution_count": 28,
   "metadata": {},
   "outputs": [],
   "source": [
    "#graham"
   ]
  },
  {
   "cell_type": "code",
   "execution_count": 29,
   "metadata": {},
   "outputs": [],
   "source": [
    "#test_map = build_simple_map()"
   ]
  },
  {
   "cell_type": "code",
   "execution_count": 30,
   "metadata": {},
   "outputs": [
    {
     "name": "stdout",
     "output_type": "stream",
     "text": [
      "player3\n",
      "1\n",
      "player2\n",
      "1\n",
      "player3\n",
      "1\n",
      "player3\n",
      "1\n",
      "player3\n",
      "1\n",
      "player3\n",
      "1\n",
      "player2\n",
      "1\n",
      "player3\n",
      "1\n",
      "player2\n",
      "1\n",
      "player3\n",
      "1\n"
     ]
    }
   ],
   "source": [
    "for i in range(10):\n",
    "    test_map = build_simple_map()\n",
    "    for player in test_map.getPlayerList():\n",
    "        if player.getName() == 'ai_player':\n",
    "            ai_player = player\n",
    "    test_map.playAiGame(model,ai_player,False)"
   ]
  },
  {
   "cell_type": "code",
   "execution_count": 18,
   "metadata": {},
   "outputs": [
    {
     "name": "stdout",
     "output_type": "stream",
     "text": [
      "player2\n",
      "1\n"
     ]
    }
   ],
   "source": [
    "#test_map.playAiGame(model,ai_player,True)"
   ]
  },
  {
   "cell_type": "code",
   "execution_count": null,
   "metadata": {},
   "outputs": [],
   "source": []
  }
 ],
 "metadata": {
  "kernelspec": {
   "display_name": "Python 3",
   "language": "python",
   "name": "python3"
  },
  "language_info": {
   "codemirror_mode": {
    "name": "ipython",
    "version": 3
   },
   "file_extension": ".py",
   "mimetype": "text/x-python",
   "name": "python",
   "nbconvert_exporter": "python",
   "pygments_lexer": "ipython3",
   "version": "3.7.3"
  }
 },
 "nbformat": 4,
 "nbformat_minor": 2
}
